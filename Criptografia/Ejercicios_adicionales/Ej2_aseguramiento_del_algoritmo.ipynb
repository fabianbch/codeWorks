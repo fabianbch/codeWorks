{
  "nbformat": 4,
  "nbformat_minor": 0,
  "metadata": {
    "colab": {
      "provenance": []
    },
    "kernelspec": {
      "name": "python3",
      "display_name": "Python 3"
    },
    "language_info": {
      "name": "python"
    }
  },
  "cells": [
    {
      "cell_type": "markdown",
      "source": [
        "**Ejercicio 2: Reforzamiento de las seguridades utilizando algoritmos criptográficos híbridos.**\n",
        "\n",
        "Para reforzar la seguridad de las contraseñas en una organización y mitigar posibles riesgos de un ataque de fuerza bruta, se recomienda utilizar:\n",
        "\n",
        "*Algoritmos asimétricos (por ejemplo, RSA o ECC)*, usado para proteger la transmisión de claves simétricas o elementos críticos.\n",
        "\n",
        "*Algoritmos simétricos*, usado en el cifrado de datos de forma rápida.\n",
        "\n",
        "*Hash con salt & pepper*, para fortalecer la seguridad de los Hashes mediante la adición de valores aleatorios (salt) y secretos (pepper).\n",
        "\n",
        "Fabián Balseca Chávez."
      ],
      "metadata": {
        "id": "zhvH0wikWPv9"
      }
    },
    {
      "cell_type": "markdown",
      "source": [
        "**Instalación de librerías y dependencias.**"
      ],
      "metadata": {
        "id": "NwndwW6LXqCt"
      }
    },
    {
      "cell_type": "code",
      "source": [
        "import hashlib\n",
        "import os\n",
        "from cryptography.hazmat.primitives.asymmetric import rsa\n",
        "from cryptography.hazmat.primitives import serialization, hashes\n",
        "from cryptography.hazmat.primitives.asymmetric import padding\n",
        "from cryptography.hazmat.backends import default_backend"
      ],
      "metadata": {
        "id": "HbDB0rMBX2X4"
      },
      "execution_count": null,
      "outputs": []
    },
    {
      "cell_type": "markdown",
      "source": [
        "**Generación de las claves: privada y pública, con el algortimo RSA para proteger el salt & pepper.**"
      ],
      "metadata": {
        "id": "dVrOYAtmYAYd"
      }
    },
    {
      "cell_type": "code",
      "source": [
        "private_key = rsa.generate_private_key(\n",
        "    public_exponent=65537,\n",
        "    key_size=2048,\n",
        "    backend=default_backend()\n",
        ")\n",
        "\n",
        "public_key = private_key.public_key()\n",
        "\n",
        "\n",
        "# Serialización de las claves para almacenamiento seguro (en aplicaciones reales)\n",
        "pem_private = private_key.private_bytes(\n",
        "    encoding=serialization.Encoding.PEM,\n",
        "    format=serialization.PrivateFormat.TraditionalOpenSSL,\n",
        "    encryption_algorithm=serialization.NoEncryption()\n",
        ")\n",
        "\n",
        "pem_public = public_key.public_bytes(\n",
        "    encoding=serialization.Encoding.PEM,\n",
        "    format=serialization.PublicFormat.SubjectPublicKeyInfo\n",
        ")"
      ],
      "metadata": {
        "id": "QgOIoYIgZwvC"
      },
      "execution_count": null,
      "outputs": []
    },
    {
      "cell_type": "markdown",
      "source": [
        "**Sal & pepper generados de forma aleatoria para la protección de los datos.**"
      ],
      "metadata": {
        "id": "9h4NddXDZiwE"
      }
    },
    {
      "cell_type": "code",
      "source": [
        "salt = os.urandom(16)\n",
        "pepper = os.urandom(16)"
      ],
      "metadata": {
        "id": "z4Q5cbNCZ6EQ"
      },
      "execution_count": null,
      "outputs": []
    },
    {
      "cell_type": "markdown",
      "source": [
        "**Función para proteger la contraseña con algoritmos asimétricos RSA, Hash SHA-256, salt & pepper.**"
      ],
      "metadata": {
        "id": "yb_EbmwyZ_ui"
      }
    },
    {
      "cell_type": "code",
      "source": [
        "def secure_hash_with_rsa(password, salt, pepper, public_key):\n",
        "    # Combina la contraseña con salt & pepper\n",
        "    salted_password = salt + password.encode() + pepper\n",
        "\n",
        "    # Cifrado de la contraseña con Hash SHA-256\n",
        "    hashed_password = hashlib.sha256(salted_password).hexdigest()\n",
        "\n",
        "    # Cifrado usando sal & pepper usando la clave pública\n",
        "    encrypted_salt = public_key.encrypt(\n",
        "        salt,\n",
        "        padding.OAEP(\n",
        "            mgf=padding.MGF1(algorithm=hashes.SHA256()),\n",
        "            algorithm=hashes.SHA256(),\n",
        "            label=None\n",
        "        )\n",
        "    )\n",
        "\n",
        "    encrypted_pepper = public_key.encrypt(\n",
        "        pepper,\n",
        "        padding.OAEP(\n",
        "            mgf=padding.MGF1(algorithm=hashes.SHA256()),\n",
        "            algorithm=hashes.SHA256(),\n",
        "            label=None\n",
        "        )\n",
        "    )\n",
        "\n",
        "    # Devuelve el Hash y los elementos cifrados\n",
        "    return hashed_password, encrypted_salt, encrypted_pepper"
      ],
      "metadata": {
        "id": "xPx_n7FUab1e"
      },
      "execution_count": null,
      "outputs": []
    },
    {
      "cell_type": "markdown",
      "source": [
        "**Ejecución y prueba para verificar el aseguramiento de la contraseña.**"
      ],
      "metadata": {
        "id": "cUeSy3A-bDJF"
      }
    },
    {
      "cell_type": "code",
      "execution_count": null,
      "metadata": {
        "colab": {
          "base_uri": "https://localhost:8080/"
        },
        "id": "fj-DrkGqS829",
        "outputId": "a7fbf454-c2a1-485d-efd7-314e13670854"
      },
      "outputs": [
        {
          "output_type": "stream",
          "name": "stdout",
          "text": [
            "\n",
            "Contraseña: 4a^T@6(^yhy7\n",
            "\n",
            "Hash: 2be61861ab41a1bb34f02665746d87d6914830e957107fde0e0c248a9beb93d9\n",
            "\n",
            "Salt cifrado: b'hx\\x82\\x02\\xdcH\\xfe\\x1e\\x9b\\x06\\xad\\xb7w\\x93\\xc9\\xdbr\\x1b\\x1e\\xe5U\\x14\\xb9\\xcbG\\xe2g\\xd4s\\xfd\\xf9\\xc0#Z\\x87\\xc6\\x80\\xeb\\x18\\x83\\x03\\xdf\\xec\\x9d\\xb5z\\xb9\\x9dk= \"\\'z\\x8a\\xd4\\xc3\\xe2\\x8b\\xa4\\xa10b\\xb1\\xf7\\xd0\\xb0\\r;l\\x18\\x08\\xa67\\xe9\\xb7\\xc1B:cl\\xe6d\\x81\\x1dj\\xa3\\x91S\\x1d\\x10\\x19\\x15\\xd8\\x98\\x89\\xba\\x0br\\x00B\\n*\\xe3\\xd1\\xc7<\\x18\\'\\xe3]\\xd9\\xd0g\\x9a\\x11{o\\xbcn\\xe7G6\\x9e\\xf3c\\xe44\\x8a\\xc3s\\x14-\\x17\\xda\\x87\\\\\\xee\\xa7\\xfaQus\\x85z\\\\\\xbd]\\xaa \\x93\\xcf=\\xae\\xa6\\xf4\\xb6\\n\\xb3\\x05\\x0eP\\xcd\\x10\"k\\x13\\xd1o\\xa3d(\\x11oe\\x87\\xbe\\xd5\\xdfk\\xa5^\\xac\\xe6\\x8f\\xfa\\xc4C\\xb3B\\x9c0\\xa3\\xceV\\xe2s\\x8d)\\xf0\\\\Nf\\xdc\\x88\\xfc\\xe3j\\x83\\xcbK\\xf5\\x0f\\xc5\\xc0cM\\xfeh.\\xe5YPS\\x84\\x9b\\x03\\x9f.9E\\x94M\\xef7\\x85HRZt2\\xbc\\xf7\\xd0\\xf48\\x1b\\x04xv\\xf8U`/\\xffL'\n",
            "\n",
            "Pepper cifrado: b'\\xd9\\x0bbh\\x1c\\xf1\\xa5\\xb6o\\xe7\\x80\\x1d\\xa1\\x00\\xbev\\x06WS\\x87\\x8d\\xc2n\\xca\\x03\\xb0\\xf1\\xcc!\\xfd\\xc2\\xb6Pm\\xdd\\x04\\x94\\xbc\\xd2oQ\\xc3c\\x87,C\\xe56 B\\xc0}\\xe4\\xc1\\x9b*\\x1b\\xc7\\xafA\\x04\\xe5L\\x1f~\\x17\\xa1\\x07x\\xfb\"\\x05\\xae|\\x82\\xcb\\xa0\\xc3H\\xa2ld\\xc48\\x1d\\xf2k\\xd3\\x18y\\xa6\\x02\\xcd(\\x10\\x8f\\x0b\\xf9k\\x98Ed\\x05P\\xa8\\xdb\\xa5\\x05f\\x92\\xfa\\t3q\\x02H\\x840v\\xe0\\x0c\\x13\\x08@\\xdf\\xa9\\x87U\\x1c\\xa0\\xdd3R\\xbf\\xf5\\r\\xf5g\\x1a\\xbd\\'\\x9a^\\xff\\x93sA\\xfc{\\xfb\\xd9\\x98[f\\xac\\xbb\\xad]\\x00\\x82\\xe9RC\\'\\xa9\\xd3S\\x88}\\xa5\\xcau\\x88=\\xbcgB\\x9f2\\x05\\x93\\xad\\xc6aT\\x05\\xc7g\\x1f\\x8f\\x91\\xe9\"y\\x0ep\\x0c\\x98o\\x85\\xad\\xa2\\x0e\\xaf\\xd6y\\xeb\\x15\\xe8AxB\\xcf7[\\xe2\\xbc|\\xd4\\xeb-C\\xd1\\x9f}\\x17\\x86x\\x06\\xcch\\x8b[4\\xf2\\xf3\\xb5\\xef\\xe3\\xc5\\x83X\\x07\\x90\\xcd\\x17\\xf5h\\xc6\\x02\\x8d\"\\x06\\x1b\\x95\\xd9'\n",
            "\n",
            "Clave pública: -----BEGIN PUBLIC KEY-----\n",
            "MIIBIjANBgkqhkiG9w0BAQEFAAOCAQ8AMIIBCgKCAQEA6vXOT+Q2pIVxX8+X/RnK\n",
            "XLZRFqugBBSXYQO8l/sTy1GYhMbwCcDXdm8HNS9sM598LWIzK/Kkfxq820377Wm+\n",
            "FuwnRibHPAd0VwwMQNFBEy63sr50cD4aMDGyqZMVkvuGemCRvuw52a0WgsHuc8Su\n",
            "dD8KMgh33iHgqSYIL6sR6A9wwSCvFOJQyJIUBXxNd741pro/fDJTb1aeAubJ8PkF\n",
            "xk9565988lUQ3zuqmY8xl4AmSmjLKFs+eAAS5Y8AOdu9zYaITsJR6bHNiXlst/MN\n",
            "3iVSDwNSZUEFif4SDBAXF3EBMV5Ftfy6nsERPrM3hyMYlwABEvV0zhlrGB6TypVj\n",
            "WwIDAQAB\n",
            "-----END PUBLIC KEY-----\n",
            "\n"
          ]
        }
      ],
      "source": [
        "password = \"4a^T@6(^yhy7\"\n",
        "hashed_password, enc_salt, enc_pepper = secure_hash_with_rsa(password, salt, pepper, public_key)\n",
        "\n",
        "print(\"\\nContraseña:\", password)\n",
        "print(\"\\nHash:\", hashed_password)\n",
        "print(\"\\nSalt cifrado:\", enc_salt)\n",
        "print(\"\\nPepper cifrado:\", enc_pepper)\n",
        "print(\"\\nClave pública:\", pem_public.decode())\n"
      ]
    }
  ]
}