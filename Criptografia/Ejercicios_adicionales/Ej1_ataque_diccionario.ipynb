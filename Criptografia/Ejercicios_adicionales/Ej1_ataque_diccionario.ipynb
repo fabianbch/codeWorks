{
  "nbformat": 4,
  "nbformat_minor": 0,
  "metadata": {
    "colab": {
      "provenance": []
    },
    "kernelspec": {
      "name": "python3",
      "display_name": "Python 3"
    },
    "language_info": {
      "name": "python"
    }
  },
  "cells": [
    {
      "cell_type": "markdown",
      "source": [
        "**Ejercicio 1: Simulación de un ataque de fuerza bruta a una base de datos de contraseñas.**\n",
        "\n",
        "Un ciberdelincuente tiene acceso a una lista de Hashes y va a intentar recuperar las contraseñas robadas en texto claro para utilizarlas y acceder a los sistemas organizacionales.\n",
        "\n",
        "Fabián Balseca Chávez."
      ],
      "metadata": {
        "id": "dJMiEGY_cHcM"
      }
    },
    {
      "cell_type": "markdown",
      "source": [
        "**Instalación de librerías y dependencias.**\n",
        "\n",
        "En caso de no disponer la librería hashlib use:\n",
        "\n",
        "!pip install hashlib"
      ],
      "metadata": {
        "id": "l5T93yUWclGc"
      }
    },
    {
      "cell_type": "code",
      "source": [
        "import hashlib"
      ],
      "metadata": {
        "id": "yuKbbE2ydey7"
      },
      "execution_count": null,
      "outputs": []
    },
    {
      "cell_type": "markdown",
      "source": [
        "**Base de datos de usuarios y contraseñas.**\n",
        "\n",
        "Simulación de una base de datos que almacena nombres de usuarios y sus contraseñas Hash. Las contraseñas se encuentran cifradas usando el algoritmo MD5 para efecto de prueba."
      ],
      "metadata": {
        "id": "UgBkLGwZdXcI"
      }
    },
    {
      "cell_type": "code",
      "source": [
        "user_db = {\n",
        "    # Contraseña común\n",
        "    \"usuario1\": hashlib.md5(\"password123\".encode()).hexdigest(),\n",
        "\n",
        "    # Contraseña común\n",
        "    \"usuario2\": hashlib.md5(\"qwerty456\".encode()).hexdigest(),\n",
        "\n",
        "    # Contraseña robusta\n",
        "    \"usuario3\": hashlib.md5(\"4a^T@6(^yhy7\".encode()).hexdigest()\n",
        "}\n",
        "\n",
        "print(\"Base de datos usuarios y contraseñas:\")\n",
        "for user, hashed_password in user_db.items():\n",
        "    print(f\"{user}: {hashed_password}\")"
      ],
      "metadata": {
        "colab": {
          "base_uri": "https://localhost:8080/"
        },
        "id": "G90aH_-NdaQt",
        "outputId": "89f17e16-b534-40a4-d030-a4231a39142b"
      },
      "execution_count": null,
      "outputs": [
        {
          "output_type": "stream",
          "name": "stdout",
          "text": [
            "Base de datos usuarios y contraseñas:\n",
            "usuario1: 482c811da5d5b4bc6d497ffa98491e38\n",
            "usuario2: 9fcc06d1c2909ca627807ad8030d787d\n",
            "usuario3: cab1e63f70bf6f6d38609548e3eb45a0\n"
          ]
        }
      ]
    },
    {
      "cell_type": "markdown",
      "source": [
        "**Función de ataque de fuerza bruta.**\n",
        "\n",
        "Intentará recuperar las contraseñas en texto claro probando combinaciones comunes de contraseñas y comparando sus Hashes con los de la base de datos.\n",
        "\n",
        "\n",
        "*Parámetros:*\n",
        "\n",
        " hash_objetivo (str): El Hash que se quiere descrifrar.\n",
        "\n",
        " diccionario (list): Lista de posibles contraseñas a probar.\n",
        "\n",
        "\n",
        "*Devuelve:*\n",
        "\n",
        " La contraseña en texto claro si se encuentra una coincidencia de Hash.\n",
        "\n",
        " **None** si no se encuentra ninguna coincidencia."
      ],
      "metadata": {
        "id": "PbMu0HwbeiJk"
      }
    },
    {
      "cell_type": "code",
      "source": [
        "def fuerza_bruta(hash_objetivo, diccionario):\n",
        "    for password in diccionario:\n",
        "        # Calcula el Hash MD5 de cada posible contraseña en el diccionario\n",
        "        hash_calculado = hashlib.md5(password.encode()).hexdigest()\n",
        "\n",
        "        # Compara el Hash calculado con el Hash objetivo\n",
        "        if hash_calculado == hash_objetivo:\n",
        "            # Devuelve la contraseña en texto claro si coincide\n",
        "            return password\n",
        "\n",
        "    # Si no existe coincidencia\n",
        "    return None"
      ],
      "metadata": {
        "id": "GHtm2v8aenNE"
      },
      "execution_count": null,
      "outputs": []
    },
    {
      "cell_type": "markdown",
      "source": [
        "**Lista de contraseñas comunes (Diccionario).**\n",
        "\n",
        "Este diccionario contiene 50 contraseñas comunes que suelen usarse en ataques de fuerza bruta. En un caso real, esta lista podría ser mucho más extensa."
      ],
      "metadata": {
        "id": "5zceF9W3f18d"
      }
    },
    {
      "cell_type": "code",
      "execution_count": null,
      "metadata": {
        "id": "wkYcELPsb7me"
      },
      "outputs": [],
      "source": [
        "diccionario_comun = [\"root\", \"admin\", \"user\", \"1234\", \"administrador\", \"anonymous\", \"mallorca\", \"12345678\", \"zaqxswcdevfr\", \"windows\",\n",
        "                     \"linux\", \"whoami\", \"welcome123\", \"winner456\", \"password\", \"uuidd\", \"user1\", \"user2\", \"user3\", \"vision\",\n",
        "                     \"supervisor\", \"superuser\", \"superadmin\", \"123456789\", \"student\", \"start123\", \"sshd\", \"soporte\", \"rootpass\", \"root123\",\n",
        "                     \"qwertyui\", \"qwe123!@#\", \"qwerty456\", \"password123\", \"qwerty\", \"public\", \"private\", \"power\", \"pepe1\", \"password321\",\n",
        "                     \"danger\", \"adminsys\", \"sa\", \"zj!@#$%^&\", \"cognos\", \"checksys\", \"central\", \"love\", \"good\", \"cisco\"]"
      ]
    },
    {
      "cell_type": "markdown",
      "source": [
        "**Ejecución del ataque.**\n",
        "\n",
        "Se intenta recuperar las contraseñas para cada usuario en la base de datos. En este caso, se utiliza el diccionario definido anteriormente para realizar el ataque."
      ],
      "metadata": {
        "id": "UpRZP16-k16d"
      }
    },
    {
      "cell_type": "code",
      "source": [
        "print(\"\\nIniciando ataque de fuerza bruta...\\n\")\n",
        "for user, hashed_password in user_db.items():\n",
        "    print(f\"Intentando recuperar la contraseña de {user}...\")\n",
        "    contraseña_encontrada = fuerza_bruta(hashed_password, diccionario_comun)\n",
        "\n",
        "    if contraseña_encontrada:\n",
        "        print(f\"La contraseña de '{user}' es: '{contraseña_encontrada}'\\n\")\n",
        "    else:\n",
        "        print(f\"No se pudo recuperar la contraseña de '{user}' con el diccionario dado.\\n\")\n",
        "\n",
        "print(\"Ataque de fuerza bruta finalizado.\")"
      ],
      "metadata": {
        "colab": {
          "base_uri": "https://localhost:8080/"
        },
        "id": "_5p5ojnsk8dV",
        "outputId": "b26531b1-514b-44a3-b7c8-f57bd185189d"
      },
      "execution_count": null,
      "outputs": [
        {
          "output_type": "stream",
          "name": "stdout",
          "text": [
            "\n",
            "Iniciando ataque de fuerza bruta...\n",
            "\n",
            "Intentando recuperar la contraseña de usuario1...\n",
            "La contraseña de 'usuario1' es: 'password123'\n",
            "\n",
            "Intentando recuperar la contraseña de usuario2...\n",
            "La contraseña de 'usuario2' es: 'qwerty456'\n",
            "\n",
            "Intentando recuperar la contraseña de usuario3...\n",
            "No se pudo recuperar la contraseña de 'usuario3' con el diccionario dado.\n",
            "\n",
            "Ataque de fuerza bruta finalizado.\n"
          ]
        }
      ]
    }
  ]
}